{
 "cells": [
  {
   "cell_type": "markdown",
   "metadata": {},
   "source": [
    "# Mi primera base de datos: Mi alegría \n",
    "\n",
    "## ¿Qué voy a hacer?\n",
    "\n",
    "\n",
    " - Buscar patrones\n",
    " - Buscar de relaciones \n",
    " - Cosas curiosas de los datos\n",
    " \n",
    " \n",
    " ## ¿Qué usaré hoy? \n",
    " \n",
    " Usaremos pandas para el análisis \n",
    " \n",
    " Usaremos MATPLOTLIB.PYPLOT\n",
    " \n",
    " Usaremos numpy"
   ]
  },
  {
   "cell_type": "code",
   "execution_count": 79,
   "metadata": {},
   "outputs": [],
   "source": [
    "# Importar librerias necesarias\n",
    "\n",
    "import numpy as np \n",
    "import matplotlib.pyplot as plt \n",
    "import pandas as pd "
   ]
  },
  {
   "cell_type": "markdown",
   "metadata": {},
   "source": [
    "##  Primer paso: importar y ver datos "
   ]
  },
  {
   "cell_type": "code",
   "execution_count": 80,
   "metadata": {},
   "outputs": [],
   "source": [
    "# pd.read_csv('argumento.csv'), donde 'argumento.csv' es nombre del archivo csv que esta en la carpeta donde estoy trabajando\n",
    "\n",
    "# Leí mis datos del archivo Spotify \n",
    "spotify=pd.read_csv('Spotify.csv')\n"
   ]
  },
  {
   "cell_type": "code",
   "execution_count": 81,
   "metadata": {},
   "outputs": [],
   "source": [
    "# Método rudo \n",
    "# print(spotify)"
   ]
  },
  {
   "cell_type": "code",
   "execution_count": 82,
   "metadata": {},
   "outputs": [],
   "source": [
    "# Método DataFrame\n",
    "#te da en columnas...\n",
    "#pd.DataFrame(spotify)\n"
   ]
  },
  {
   "cell_type": "code",
   "execution_count": 83,
   "metadata": {},
   "outputs": [
    {
     "data": {
      "text/html": [
       "<div>\n",
       "<style scoped>\n",
       "    .dataframe tbody tr th:only-of-type {\n",
       "        vertical-align: middle;\n",
       "    }\n",
       "\n",
       "    .dataframe tbody tr th {\n",
       "        vertical-align: top;\n",
       "    }\n",
       "\n",
       "    .dataframe thead th {\n",
       "        text-align: right;\n",
       "    }\n",
       "</style>\n",
       "<table border=\"1\" class=\"dataframe\">\n",
       "  <thead>\n",
       "    <tr style=\"text-align: right;\">\n",
       "      <th></th>\n",
       "      <th>Unnamed: 0</th>\n",
       "      <th>acousticness</th>\n",
       "      <th>danceability</th>\n",
       "      <th>duration_ms</th>\n",
       "      <th>energy</th>\n",
       "      <th>instrumentalness</th>\n",
       "      <th>key</th>\n",
       "      <th>liveness</th>\n",
       "      <th>loudness</th>\n",
       "      <th>mode</th>\n",
       "      <th>speechiness</th>\n",
       "      <th>tempo</th>\n",
       "      <th>time_signature</th>\n",
       "      <th>valence</th>\n",
       "      <th>target</th>\n",
       "      <th>song_title</th>\n",
       "      <th>artist</th>\n",
       "    </tr>\n",
       "  </thead>\n",
       "  <tbody>\n",
       "    <tr>\n",
       "      <th>0</th>\n",
       "      <td>0</td>\n",
       "      <td>0.01020</td>\n",
       "      <td>0.833</td>\n",
       "      <td>204600</td>\n",
       "      <td>0.434</td>\n",
       "      <td>0.021900</td>\n",
       "      <td>2</td>\n",
       "      <td>0.1650</td>\n",
       "      <td>-8.795</td>\n",
       "      <td>1</td>\n",
       "      <td>0.4310</td>\n",
       "      <td>150.062</td>\n",
       "      <td>4.0</td>\n",
       "      <td>0.286</td>\n",
       "      <td>1</td>\n",
       "      <td>Mask Off</td>\n",
       "      <td>Future</td>\n",
       "    </tr>\n",
       "    <tr>\n",
       "      <th>1</th>\n",
       "      <td>1</td>\n",
       "      <td>0.19900</td>\n",
       "      <td>0.743</td>\n",
       "      <td>326933</td>\n",
       "      <td>0.359</td>\n",
       "      <td>0.006110</td>\n",
       "      <td>1</td>\n",
       "      <td>0.1370</td>\n",
       "      <td>-10.401</td>\n",
       "      <td>1</td>\n",
       "      <td>0.0794</td>\n",
       "      <td>160.083</td>\n",
       "      <td>4.0</td>\n",
       "      <td>0.588</td>\n",
       "      <td>1</td>\n",
       "      <td>Redbone</td>\n",
       "      <td>Childish Gambino</td>\n",
       "    </tr>\n",
       "    <tr>\n",
       "      <th>2</th>\n",
       "      <td>2</td>\n",
       "      <td>0.03440</td>\n",
       "      <td>0.838</td>\n",
       "      <td>185707</td>\n",
       "      <td>0.412</td>\n",
       "      <td>0.000234</td>\n",
       "      <td>2</td>\n",
       "      <td>0.1590</td>\n",
       "      <td>-7.148</td>\n",
       "      <td>1</td>\n",
       "      <td>0.2890</td>\n",
       "      <td>75.044</td>\n",
       "      <td>4.0</td>\n",
       "      <td>0.173</td>\n",
       "      <td>1</td>\n",
       "      <td>Xanny Family</td>\n",
       "      <td>Future</td>\n",
       "    </tr>\n",
       "    <tr>\n",
       "      <th>3</th>\n",
       "      <td>3</td>\n",
       "      <td>0.60400</td>\n",
       "      <td>0.494</td>\n",
       "      <td>199413</td>\n",
       "      <td>0.338</td>\n",
       "      <td>0.510000</td>\n",
       "      <td>5</td>\n",
       "      <td>0.0922</td>\n",
       "      <td>-15.236</td>\n",
       "      <td>1</td>\n",
       "      <td>0.0261</td>\n",
       "      <td>86.468</td>\n",
       "      <td>4.0</td>\n",
       "      <td>0.230</td>\n",
       "      <td>1</td>\n",
       "      <td>Master Of None</td>\n",
       "      <td>Beach House</td>\n",
       "    </tr>\n",
       "    <tr>\n",
       "      <th>4</th>\n",
       "      <td>4</td>\n",
       "      <td>0.18000</td>\n",
       "      <td>0.678</td>\n",
       "      <td>392893</td>\n",
       "      <td>0.561</td>\n",
       "      <td>0.512000</td>\n",
       "      <td>5</td>\n",
       "      <td>0.4390</td>\n",
       "      <td>-11.648</td>\n",
       "      <td>0</td>\n",
       "      <td>0.0694</td>\n",
       "      <td>174.004</td>\n",
       "      <td>4.0</td>\n",
       "      <td>0.904</td>\n",
       "      <td>1</td>\n",
       "      <td>Parallel Lines</td>\n",
       "      <td>Junior Boys</td>\n",
       "    </tr>\n",
       "    <tr>\n",
       "      <th>5</th>\n",
       "      <td>5</td>\n",
       "      <td>0.00479</td>\n",
       "      <td>0.804</td>\n",
       "      <td>251333</td>\n",
       "      <td>0.560</td>\n",
       "      <td>0.000000</td>\n",
       "      <td>8</td>\n",
       "      <td>0.1640</td>\n",
       "      <td>-6.682</td>\n",
       "      <td>1</td>\n",
       "      <td>0.1850</td>\n",
       "      <td>85.023</td>\n",
       "      <td>4.0</td>\n",
       "      <td>0.264</td>\n",
       "      <td>1</td>\n",
       "      <td>Sneakin’</td>\n",
       "      <td>Drake</td>\n",
       "    </tr>\n",
       "  </tbody>\n",
       "</table>\n",
       "</div>"
      ],
      "text/plain": [
       "   Unnamed: 0  acousticness  danceability  duration_ms  energy  \\\n",
       "0           0       0.01020         0.833       204600   0.434   \n",
       "1           1       0.19900         0.743       326933   0.359   \n",
       "2           2       0.03440         0.838       185707   0.412   \n",
       "3           3       0.60400         0.494       199413   0.338   \n",
       "4           4       0.18000         0.678       392893   0.561   \n",
       "5           5       0.00479         0.804       251333   0.560   \n",
       "\n",
       "   instrumentalness  key  liveness  loudness  mode  speechiness    tempo  \\\n",
       "0          0.021900    2    0.1650    -8.795     1       0.4310  150.062   \n",
       "1          0.006110    1    0.1370   -10.401     1       0.0794  160.083   \n",
       "2          0.000234    2    0.1590    -7.148     1       0.2890   75.044   \n",
       "3          0.510000    5    0.0922   -15.236     1       0.0261   86.468   \n",
       "4          0.512000    5    0.4390   -11.648     0       0.0694  174.004   \n",
       "5          0.000000    8    0.1640    -6.682     1       0.1850   85.023   \n",
       "\n",
       "   time_signature  valence  target      song_title            artist  \n",
       "0             4.0    0.286       1        Mask Off            Future  \n",
       "1             4.0    0.588       1         Redbone  Childish Gambino  \n",
       "2             4.0    0.173       1    Xanny Family            Future  \n",
       "3             4.0    0.230       1  Master Of None       Beach House  \n",
       "4             4.0    0.904       1  Parallel Lines       Junior Boys  \n",
       "5             4.0    0.264       1        Sneakin’             Drake  "
      ]
     },
     "execution_count": 83,
     "metadata": {},
     "output_type": "execute_result"
    }
   ],
   "source": [
    "# Encabezados\n",
    "spotify.head(6)"
   ]
  },
  {
   "cell_type": "code",
   "execution_count": 84,
   "metadata": {},
   "outputs": [
    {
     "data": {
      "text/html": [
       "<div>\n",
       "<style scoped>\n",
       "    .dataframe tbody tr th:only-of-type {\n",
       "        vertical-align: middle;\n",
       "    }\n",
       "\n",
       "    .dataframe tbody tr th {\n",
       "        vertical-align: top;\n",
       "    }\n",
       "\n",
       "    .dataframe thead th {\n",
       "        text-align: right;\n",
       "    }\n",
       "</style>\n",
       "<table border=\"1\" class=\"dataframe\">\n",
       "  <thead>\n",
       "    <tr style=\"text-align: right;\">\n",
       "      <th></th>\n",
       "      <th>Unnamed: 0</th>\n",
       "      <th>acousticness</th>\n",
       "      <th>danceability</th>\n",
       "      <th>duration_ms</th>\n",
       "      <th>energy</th>\n",
       "      <th>instrumentalness</th>\n",
       "      <th>key</th>\n",
       "      <th>liveness</th>\n",
       "      <th>loudness</th>\n",
       "      <th>mode</th>\n",
       "      <th>speechiness</th>\n",
       "      <th>tempo</th>\n",
       "      <th>time_signature</th>\n",
       "      <th>valence</th>\n",
       "      <th>target</th>\n",
       "    </tr>\n",
       "  </thead>\n",
       "  <tbody>\n",
       "    <tr>\n",
       "      <th>count</th>\n",
       "      <td>2017.000000</td>\n",
       "      <td>2017.000000</td>\n",
       "      <td>2017.000000</td>\n",
       "      <td>2.017000e+03</td>\n",
       "      <td>2017.000000</td>\n",
       "      <td>2017.000000</td>\n",
       "      <td>2017.000000</td>\n",
       "      <td>2017.000000</td>\n",
       "      <td>2017.000000</td>\n",
       "      <td>2017.000000</td>\n",
       "      <td>2017.000000</td>\n",
       "      <td>2017.000000</td>\n",
       "      <td>2017.000000</td>\n",
       "      <td>2017.000000</td>\n",
       "      <td>2017.000000</td>\n",
       "    </tr>\n",
       "    <tr>\n",
       "      <th>mean</th>\n",
       "      <td>1008.000000</td>\n",
       "      <td>0.187590</td>\n",
       "      <td>0.618422</td>\n",
       "      <td>2.463062e+05</td>\n",
       "      <td>0.681577</td>\n",
       "      <td>0.133286</td>\n",
       "      <td>5.342588</td>\n",
       "      <td>0.190844</td>\n",
       "      <td>-7.085624</td>\n",
       "      <td>0.612295</td>\n",
       "      <td>0.092664</td>\n",
       "      <td>121.603272</td>\n",
       "      <td>3.968270</td>\n",
       "      <td>0.496815</td>\n",
       "      <td>0.505702</td>\n",
       "    </tr>\n",
       "    <tr>\n",
       "      <th>std</th>\n",
       "      <td>582.402066</td>\n",
       "      <td>0.259989</td>\n",
       "      <td>0.161029</td>\n",
       "      <td>8.198181e+04</td>\n",
       "      <td>0.210273</td>\n",
       "      <td>0.273162</td>\n",
       "      <td>3.648240</td>\n",
       "      <td>0.155453</td>\n",
       "      <td>3.761684</td>\n",
       "      <td>0.487347</td>\n",
       "      <td>0.089931</td>\n",
       "      <td>26.685604</td>\n",
       "      <td>0.255853</td>\n",
       "      <td>0.247195</td>\n",
       "      <td>0.500091</td>\n",
       "    </tr>\n",
       "    <tr>\n",
       "      <th>min</th>\n",
       "      <td>0.000000</td>\n",
       "      <td>0.000003</td>\n",
       "      <td>0.122000</td>\n",
       "      <td>1.604200e+04</td>\n",
       "      <td>0.014800</td>\n",
       "      <td>0.000000</td>\n",
       "      <td>0.000000</td>\n",
       "      <td>0.018800</td>\n",
       "      <td>-33.097000</td>\n",
       "      <td>0.000000</td>\n",
       "      <td>0.023100</td>\n",
       "      <td>47.859000</td>\n",
       "      <td>1.000000</td>\n",
       "      <td>0.034800</td>\n",
       "      <td>0.000000</td>\n",
       "    </tr>\n",
       "    <tr>\n",
       "      <th>25%</th>\n",
       "      <td>504.000000</td>\n",
       "      <td>0.009630</td>\n",
       "      <td>0.514000</td>\n",
       "      <td>2.000150e+05</td>\n",
       "      <td>0.563000</td>\n",
       "      <td>0.000000</td>\n",
       "      <td>2.000000</td>\n",
       "      <td>0.092300</td>\n",
       "      <td>-8.394000</td>\n",
       "      <td>0.000000</td>\n",
       "      <td>0.037500</td>\n",
       "      <td>100.189000</td>\n",
       "      <td>4.000000</td>\n",
       "      <td>0.295000</td>\n",
       "      <td>0.000000</td>\n",
       "    </tr>\n",
       "    <tr>\n",
       "      <th>50%</th>\n",
       "      <td>1008.000000</td>\n",
       "      <td>0.063300</td>\n",
       "      <td>0.631000</td>\n",
       "      <td>2.292610e+05</td>\n",
       "      <td>0.715000</td>\n",
       "      <td>0.000076</td>\n",
       "      <td>6.000000</td>\n",
       "      <td>0.127000</td>\n",
       "      <td>-6.248000</td>\n",
       "      <td>1.000000</td>\n",
       "      <td>0.054900</td>\n",
       "      <td>121.427000</td>\n",
       "      <td>4.000000</td>\n",
       "      <td>0.492000</td>\n",
       "      <td>1.000000</td>\n",
       "    </tr>\n",
       "    <tr>\n",
       "      <th>75%</th>\n",
       "      <td>1512.000000</td>\n",
       "      <td>0.265000</td>\n",
       "      <td>0.738000</td>\n",
       "      <td>2.703330e+05</td>\n",
       "      <td>0.846000</td>\n",
       "      <td>0.054000</td>\n",
       "      <td>9.000000</td>\n",
       "      <td>0.247000</td>\n",
       "      <td>-4.746000</td>\n",
       "      <td>1.000000</td>\n",
       "      <td>0.108000</td>\n",
       "      <td>137.849000</td>\n",
       "      <td>4.000000</td>\n",
       "      <td>0.691000</td>\n",
       "      <td>1.000000</td>\n",
       "    </tr>\n",
       "    <tr>\n",
       "      <th>max</th>\n",
       "      <td>2016.000000</td>\n",
       "      <td>0.995000</td>\n",
       "      <td>0.984000</td>\n",
       "      <td>1.004627e+06</td>\n",
       "      <td>0.998000</td>\n",
       "      <td>0.976000</td>\n",
       "      <td>11.000000</td>\n",
       "      <td>0.969000</td>\n",
       "      <td>-0.307000</td>\n",
       "      <td>1.000000</td>\n",
       "      <td>0.816000</td>\n",
       "      <td>219.331000</td>\n",
       "      <td>5.000000</td>\n",
       "      <td>0.992000</td>\n",
       "      <td>1.000000</td>\n",
       "    </tr>\n",
       "  </tbody>\n",
       "</table>\n",
       "</div>"
      ],
      "text/plain": [
       "        Unnamed: 0  acousticness  danceability   duration_ms       energy  \\\n",
       "count  2017.000000   2017.000000   2017.000000  2.017000e+03  2017.000000   \n",
       "mean   1008.000000      0.187590      0.618422  2.463062e+05     0.681577   \n",
       "std     582.402066      0.259989      0.161029  8.198181e+04     0.210273   \n",
       "min       0.000000      0.000003      0.122000  1.604200e+04     0.014800   \n",
       "25%     504.000000      0.009630      0.514000  2.000150e+05     0.563000   \n",
       "50%    1008.000000      0.063300      0.631000  2.292610e+05     0.715000   \n",
       "75%    1512.000000      0.265000      0.738000  2.703330e+05     0.846000   \n",
       "max    2016.000000      0.995000      0.984000  1.004627e+06     0.998000   \n",
       "\n",
       "       instrumentalness          key     liveness     loudness         mode  \\\n",
       "count       2017.000000  2017.000000  2017.000000  2017.000000  2017.000000   \n",
       "mean           0.133286     5.342588     0.190844    -7.085624     0.612295   \n",
       "std            0.273162     3.648240     0.155453     3.761684     0.487347   \n",
       "min            0.000000     0.000000     0.018800   -33.097000     0.000000   \n",
       "25%            0.000000     2.000000     0.092300    -8.394000     0.000000   \n",
       "50%            0.000076     6.000000     0.127000    -6.248000     1.000000   \n",
       "75%            0.054000     9.000000     0.247000    -4.746000     1.000000   \n",
       "max            0.976000    11.000000     0.969000    -0.307000     1.000000   \n",
       "\n",
       "       speechiness        tempo  time_signature      valence       target  \n",
       "count  2017.000000  2017.000000     2017.000000  2017.000000  2017.000000  \n",
       "mean      0.092664   121.603272        3.968270     0.496815     0.505702  \n",
       "std       0.089931    26.685604        0.255853     0.247195     0.500091  \n",
       "min       0.023100    47.859000        1.000000     0.034800     0.000000  \n",
       "25%       0.037500   100.189000        4.000000     0.295000     0.000000  \n",
       "50%       0.054900   121.427000        4.000000     0.492000     1.000000  \n",
       "75%       0.108000   137.849000        4.000000     0.691000     1.000000  \n",
       "max       0.816000   219.331000        5.000000     0.992000     1.000000  "
      ]
     },
     "execution_count": 84,
     "metadata": {},
     "output_type": "execute_result"
    }
   ],
   "source": [
    "# spotify.describe() Estadísticos básicos\n",
    "\n",
    "spotify.describe()"
   ]
  },
  {
   "cell_type": "markdown",
   "metadata": {},
   "source": [
    "### Preguntas de las alumnas \n",
    "\n",
    "- ¿Es una playlist bailable?\n",
    "- ¿Hay una relación entre bailable y energético en esta playlist?\n",
    "- ¿Cuál es la canción más escuchada? \n",
    "- Tendencia de duración\n",
    "- No tiene instrumentalización\n",
    "- Tendencia de speachness\n",
    "- ¿Es esta una lista de conciertos? \n",
    "- ¿tienen tiempo lento o rápido? \n",
    "- canicones repetida\n",
    "- artistas repetidas\n",
    "- canciones vs artistas\n"
   ]
  },
  {
   "cell_type": "code",
   "execution_count": null,
   "metadata": {},
   "outputs": [],
   "source": []
  },
  {
   "cell_type": "markdown",
   "metadata": {},
   "source": [
    "### ¿Es una playlist bailable?\n",
    "\n",
    "#### ¿Dónde? \n",
    "\n",
    "#### ¿Cómo?\n",
    "\n",
    "- poner un parámetro de restricción  \n",
    "    - Si es menos 0.5, no es bailable \n",
    "    \n",
    "### Respuestas    \n",
    "\n",
    "¿ Cuantas canciones son bailables usando una restricción D?\n",
    "    \n",
    "    "
   ]
  },
  {
   "cell_type": "code",
   "execution_count": 85,
   "metadata": {},
   "outputs": [
    {
     "name": "stdout",
     "output_type": "stream",
     "text": [
      "Existen 681 que son bailables de un total de 2017\n",
      "El 33.76% de las canciones son bailables según un parámetro D=0.7\n"
     ]
    }
   ],
   "source": [
    "# Generación de pandita ( Tomo una sola columna)\n",
    "danza=spotify['danceability']\n",
    "\n",
    "## Pregunta 1 \n",
    "\n",
    "#Parámetro de restricción\n",
    "D=0.7\n",
    "\n",
    "#Total de canciones \n",
    "C=danza.count()\n",
    "\n",
    "# Balderas' choice\n",
    "C1=len(danza)\n",
    "\n",
    "# Número de canciones bailables sum-sum\n",
    "C_B=sum(danza>D)\n",
    "\n",
    "#Proporción de canciones bailables en la lista\n",
    "P_B=C_B/C\n",
    "\n",
    "\n",
    "print('Existen '+str(C_B)+' que son bailables de un total de '+str(C1))\n",
    "\n",
    "print('El '+str(round(P_B,4)*100)+'% de las canciones son bailables según un parámetro D='+str(D))"
   ]
  },
  {
   "cell_type": "code",
   "execution_count": 86,
   "metadata": {},
   "outputs": [
    {
     "data": {
      "image/png": "[encoded data removed]",
      "text/plain": [
       "<Figure size 432x288 with 1 Axes>"
      ]
     },
     "metadata": {
      "needs_background": "light"
     },
     "output_type": "display_data"
    }
   ],
   "source": [
    "# Gráfica de bailable \n",
    "\n",
    "#Matplotlib.pyplot mejor conocido plt\n",
    "plt.hist(danza,30)\n",
    "plt.xlabel('Bailabilidad [ua]')\n",
    "plt.ylabel('Número de canciones ')\n",
    "plt.title('Número de canciones respecto a la bailabilidad')\n",
    "plt.show()"
   ]
  },
  {
   "cell_type": "code",
   "execution_count": 87,
   "metadata": {},
   "outputs": [
    {
     "data": {
      "image/png": "[encoded data removed]",
      "text/plain": [
       "<Figure size 432x288 with 1 Axes>"
      ]
     },
     "metadata": {
      "needs_background": "light"
     },
     "output_type": "display_data"
    }
   ],
   "source": [
    "danza.plot(kind='hist',bins=30)\n",
    "plt.xlabel('Bailabilidad [ua]')\n",
    "plt.ylabel('Número de canciones ')\n",
    "plt.title('Número de canciones respecto a la bailabilidad')\n",
    "plt.show()"
   ]
  },
  {
   "cell_type": "markdown",
   "metadata": {},
   "source": [
    "#  Relación entre bailable y energía\n",
    "\n",
    "\n",
    "\n"
   ]
  },
  {
   "cell_type": "code",
   "execution_count": 88,
   "metadata": {},
   "outputs": [
    {
     "data": {
      "image/png": "[encoded data removed]",
      "text/plain": [
       "<Figure size 432x288 with 1 Axes>"
      ]
     },
     "metadata": {
      "needs_background": "light"
     },
     "output_type": "display_data"
    }
   ],
   "source": [
    "energia=spotify['energy']\n",
    "\n",
    "spotify.plot.scatter('danceability','energy')\n",
    "plt.show()\n"
   ]
  },
  {
   "cell_type": "markdown",
   "metadata": {},
   "source": [
    "\n",
    "## Tarea extra: \n",
    "\n",
    "\n",
    "### Imprimir \n",
    " - La columna de todos los tonos (key)\n",
    " - El valor de tempo para las canciones del artista Future\n",
    " - ¿Cuántas canciones individuales existen? \n",
    " - ¿Cuántas canciones de WALK THE MOON hay en la lista? \n",
    " - ¿Cuántos artistas hay en total? Presentar una gráfica de barras para presentar la información\n",
    " \n",
    "Realicen la conversión de la duración de milisegundos a minutos (1 segundo=1000 milisegundo  1min = 60 segundos)\n",
    " \n",
    "Generen una nueva base de datos sin los datos innecesarios (Unnamed :0, mode, valence, mode, target)  y el índice debe ser el nombre del artista\n",
    "\n",
    "### Gráficas extra\n",
    " - Hay relación entre lo acústico y la instrumentalización\n",
    " - ¿Hay relación entre tempo y la energía? y ¿entre el tempo y la bailabilidad? \n",
    " - Si reproducieramos la lista en el orden en que esta, ¿cómo se comportaría el tempo (tendencia)? \n",
    "\n",
    "\n",
    "\n"
   ]
  },
  {
   "cell_type": "code",
   "execution_count": 89,
   "metadata": {},
   "outputs": [
    {
     "data": {
      "image/png": "[encoded data removed]",
      "text/plain": [
       "<Figure size 432x288 with 1 Axes>"
      ]
     },
     "metadata": {
      "needs_background": "light"
     },
     "output_type": "display_data"
    }
   ],
   "source": [
    "duracion = spotify['duration_ms']\n",
    "duracion=duracion*.001/60\n",
    "duracion.plot(kind='hist',bins=50)\n",
    "plt.xlabel('duracion [min]')\n",
    "plt.ylabel('cantidad de canciones')\n",
    "plt.title('Tendencia de duracion')\n",
    "plt.show()\n",
    "\n"
   ]
  },
  {
   "cell_type": "code",
   "execution_count": 90,
   "metadata": {},
   "outputs": [
    {
     "data": {
      "text/plain": [
       "count    2017.000000\n",
       "mean        4.105103\n",
       "std         1.366364\n",
       "min         0.267367\n",
       "25%         3.333583\n",
       "50%         3.821017\n",
       "75%         4.505550\n",
       "max        16.743783\n",
       "Name: duration_ms, dtype: float64"
      ]
     },
     "execution_count": 90,
     "metadata": {},
     "output_type": "execute_result"
    }
   ],
   "source": [
    "duracion.describe()"
   ]
  },
  {
   "cell_type": "code",
   "execution_count": 91,
   "metadata": {},
   "outputs": [
    {
     "name": "stdout",
     "output_type": "stream",
     "text": [
      "0\n"
     ]
    },
    {
     "data": {
      "image/png": "[encoded data removed]",
      "text/plain": [
       "<Figure size 432x288 with 1 Axes>"
      ]
     },
     "metadata": {
      "needs_background": "light"
     },
     "output_type": "display_data"
    }
   ],
   "source": [
    "#speechiness\n",
    "#columna de speechiness, asignamos variables\n",
    "verbalizacion= spotify['speechiness']\n",
    "promedio=round(sum(verbalizacion)/len(verbalizacion))\n",
    "print(promedio)\n",
    "#creamos la grafica histograma\n",
    "verbalizacion.plot(kind='hist',bins=50)\n",
    "plt.xlabel('Cantidad de palabras p/cancion')\n",
    "plt.ylabel('cantidad de canciones')\n",
    "plt.title('Tendencia de Speachness')\n",
    "plt.show()\n",
    "\n",
    "\n"
   ]
  },
  {
   "cell_type": "code",
   "execution_count": 92,
   "metadata": {},
   "outputs": [
    {
     "name": "stdout",
     "output_type": "stream",
     "text": [
      "0       0.021900\n",
      "1       0.006110\n",
      "2       0.000234\n",
      "3       0.510000\n",
      "4       0.512000\n",
      "5       0.000000\n",
      "6       0.000007\n",
      "7       0.664000\n",
      "8       0.000000\n",
      "9       0.000000\n",
      "10      0.014300\n",
      "11      0.003480\n",
      "12      0.061900\n",
      "13      0.000000\n",
      "14      0.000000\n",
      "15      0.056300\n",
      "16      0.045100\n",
      "17      0.000490\n",
      "18      0.000000\n",
      "19      0.185000\n",
      "20      0.308000\n",
      "21      0.369000\n",
      "22      0.000000\n",
      "23      0.000001\n",
      "24      0.000015\n",
      "25      0.269000\n",
      "26      0.000001\n",
      "27      0.040300\n",
      "28      0.000000\n",
      "29      0.125000\n",
      "          ...   \n",
      "1987    0.000000\n",
      "1988    0.002040\n",
      "1989    0.000001\n",
      "1990    0.000003\n",
      "1991    0.000000\n",
      "1992    0.000000\n",
      "1993    0.000000\n",
      "1994    0.000023\n",
      "1995    0.000000\n",
      "1996    0.143000\n",
      "1997    0.014600\n",
      "1998    0.000018\n",
      "1999    0.000418\n",
      "2000    0.003500\n",
      "2001    0.000000\n",
      "2002    0.000003\n",
      "2003    0.038300\n",
      "2004    0.000000\n",
      "2005    0.000001\n",
      "2006    0.000003\n",
      "2007    0.112000\n",
      "2008    0.000000\n",
      "2009    0.035900\n",
      "2010    0.121000\n",
      "2011    0.004890\n",
      "2012    0.002690\n",
      "2013    0.001670\n",
      "2014    0.003990\n",
      "2015    0.677000\n",
      "2016    0.000039\n",
      "Name: instrumentalness, Length: 2017, dtype: float64\n"
     ]
    },
    {
     "data": {
      "image/png": "[encoded data removed]",
      "text/plain": [
       "<Figure size 432x288 with 1 Axes>"
      ]
     },
     "metadata": {
      "needs_background": "light"
     },
     "output_type": "display_data"
    }
   ],
   "source": [
    "#No tiene instrumentalización #instrumentalness\n",
    "#columna de instrumentalizacion, asignamos variables\n",
    "I= spotify['instrumentalness']\n",
    "print(I)\n",
    "#creamos la grafica histograma\n",
    "I.plot(kind='hist',bins=50)\n",
    "plt.xlabel('Cantidad de Instrumentalizacion')\n",
    "plt.ylabel('cantidad de canciones')\n",
    "plt.title('Tendencia de instrumentalizacion')\n",
    "plt.show()\n",
    "\n",
    "\n",
    "\n"
   ]
  },
  {
   "cell_type": "code",
   "execution_count": 93,
   "metadata": {},
   "outputs": [],
   "source": [
    "#ordenar listas\n",
    "#spotify1 = sorted(spotify 'durability')"
   ]
  },
  {
   "cell_type": "code",
   "execution_count": 94,
   "metadata": {},
   "outputs": [
    {
     "data": {
      "text/html": [
       "<div>\n",
       "<style scoped>\n",
       "    .dataframe tbody tr th:only-of-type {\n",
       "        vertical-align: middle;\n",
       "    }\n",
       "\n",
       "    .dataframe tbody tr th {\n",
       "        vertical-align: top;\n",
       "    }\n",
       "\n",
       "    .dataframe thead th {\n",
       "        text-align: right;\n",
       "    }\n",
       "</style>\n",
       "<table border=\"1\" class=\"dataframe\">\n",
       "  <thead>\n",
       "    <tr style=\"text-align: right;\">\n",
       "      <th></th>\n",
       "      <th>Unnamed: 0</th>\n",
       "      <th>acousticness</th>\n",
       "      <th>danceability</th>\n",
       "      <th>duration_ms</th>\n",
       "      <th>energy</th>\n",
       "      <th>instrumentalness</th>\n",
       "      <th>key</th>\n",
       "      <th>liveness</th>\n",
       "      <th>loudness</th>\n",
       "      <th>mode</th>\n",
       "      <th>speechiness</th>\n",
       "      <th>tempo</th>\n",
       "      <th>time_signature</th>\n",
       "      <th>valence</th>\n",
       "      <th>target</th>\n",
       "      <th>song_title</th>\n",
       "    </tr>\n",
       "    <tr>\n",
       "      <th>artist</th>\n",
       "      <th></th>\n",
       "      <th></th>\n",
       "      <th></th>\n",
       "      <th></th>\n",
       "      <th></th>\n",
       "      <th></th>\n",
       "      <th></th>\n",
       "      <th></th>\n",
       "      <th></th>\n",
       "      <th></th>\n",
       "      <th></th>\n",
       "      <th></th>\n",
       "      <th></th>\n",
       "      <th></th>\n",
       "      <th></th>\n",
       "      <th></th>\n",
       "    </tr>\n",
       "  </thead>\n",
       "  <tbody>\n",
       "    <tr>\n",
       "      <th>Future</th>\n",
       "      <td>0</td>\n",
       "      <td>0.0102</td>\n",
       "      <td>0.833</td>\n",
       "      <td>204600</td>\n",
       "      <td>0.434</td>\n",
       "      <td>0.021900</td>\n",
       "      <td>2</td>\n",
       "      <td>0.1650</td>\n",
       "      <td>-8.795</td>\n",
       "      <td>1</td>\n",
       "      <td>0.4310</td>\n",
       "      <td>150.062</td>\n",
       "      <td>4.0</td>\n",
       "      <td>0.286</td>\n",
       "      <td>1</td>\n",
       "      <td>Mask Off</td>\n",
       "    </tr>\n",
       "    <tr>\n",
       "      <th>Childish Gambino</th>\n",
       "      <td>1</td>\n",
       "      <td>0.1990</td>\n",
       "      <td>0.743</td>\n",
       "      <td>326933</td>\n",
       "      <td>0.359</td>\n",
       "      <td>0.006110</td>\n",
       "      <td>1</td>\n",
       "      <td>0.1370</td>\n",
       "      <td>-10.401</td>\n",
       "      <td>1</td>\n",
       "      <td>0.0794</td>\n",
       "      <td>160.083</td>\n",
       "      <td>4.0</td>\n",
       "      <td>0.588</td>\n",
       "      <td>1</td>\n",
       "      <td>Redbone</td>\n",
       "    </tr>\n",
       "    <tr>\n",
       "      <th>Future</th>\n",
       "      <td>2</td>\n",
       "      <td>0.0344</td>\n",
       "      <td>0.838</td>\n",
       "      <td>185707</td>\n",
       "      <td>0.412</td>\n",
       "      <td>0.000234</td>\n",
       "      <td>2</td>\n",
       "      <td>0.1590</td>\n",
       "      <td>-7.148</td>\n",
       "      <td>1</td>\n",
       "      <td>0.2890</td>\n",
       "      <td>75.044</td>\n",
       "      <td>4.0</td>\n",
       "      <td>0.173</td>\n",
       "      <td>1</td>\n",
       "      <td>Xanny Family</td>\n",
       "    </tr>\n",
       "    <tr>\n",
       "      <th>Beach House</th>\n",
       "      <td>3</td>\n",
       "      <td>0.6040</td>\n",
       "      <td>0.494</td>\n",
       "      <td>199413</td>\n",
       "      <td>0.338</td>\n",
       "      <td>0.510000</td>\n",
       "      <td>5</td>\n",
       "      <td>0.0922</td>\n",
       "      <td>-15.236</td>\n",
       "      <td>1</td>\n",
       "      <td>0.0261</td>\n",
       "      <td>86.468</td>\n",
       "      <td>4.0</td>\n",
       "      <td>0.230</td>\n",
       "      <td>1</td>\n",
       "      <td>Master Of None</td>\n",
       "    </tr>\n",
       "    <tr>\n",
       "      <th>Junior Boys</th>\n",
       "      <td>4</td>\n",
       "      <td>0.1800</td>\n",
       "      <td>0.678</td>\n",
       "      <td>392893</td>\n",
       "      <td>0.561</td>\n",
       "      <td>0.512000</td>\n",
       "      <td>5</td>\n",
       "      <td>0.4390</td>\n",
       "      <td>-11.648</td>\n",
       "      <td>0</td>\n",
       "      <td>0.0694</td>\n",
       "      <td>174.004</td>\n",
       "      <td>4.0</td>\n",
       "      <td>0.904</td>\n",
       "      <td>1</td>\n",
       "      <td>Parallel Lines</td>\n",
       "    </tr>\n",
       "  </tbody>\n",
       "</table>\n",
       "</div>"
      ],
      "text/plain": [
       "                  Unnamed: 0  acousticness  danceability  duration_ms  energy  \\\n",
       "artist                                                                          \n",
       "Future                     0        0.0102         0.833       204600   0.434   \n",
       "Childish Gambino           1        0.1990         0.743       326933   0.359   \n",
       "Future                     2        0.0344         0.838       185707   0.412   \n",
       "Beach House                3        0.6040         0.494       199413   0.338   \n",
       "Junior Boys                4        0.1800         0.678       392893   0.561   \n",
       "\n",
       "                  instrumentalness  key  liveness  loudness  mode  \\\n",
       "artist                                                              \n",
       "Future                    0.021900    2    0.1650    -8.795     1   \n",
       "Childish Gambino          0.006110    1    0.1370   -10.401     1   \n",
       "Future                    0.000234    2    0.1590    -7.148     1   \n",
       "Beach House               0.510000    5    0.0922   -15.236     1   \n",
       "Junior Boys               0.512000    5    0.4390   -11.648     0   \n",
       "\n",
       "                  speechiness    tempo  time_signature  valence  target  \\\n",
       "artist                                                                    \n",
       "Future                 0.4310  150.062             4.0    0.286       1   \n",
       "Childish Gambino       0.0794  160.083             4.0    0.588       1   \n",
       "Future                 0.2890   75.044             4.0    0.173       1   \n",
       "Beach House            0.0261   86.468             4.0    0.230       1   \n",
       "Junior Boys            0.0694  174.004             4.0    0.904       1   \n",
       "\n",
       "                      song_title  \n",
       "artist                            \n",
       "Future                  Mask Off  \n",
       "Childish Gambino         Redbone  \n",
       "Future              Xanny Family  \n",
       "Beach House       Master Of None  \n",
       "Junior Boys       Parallel Lines  "
      ]
     },
     "execution_count": 94,
     "metadata": {},
     "output_type": "execute_result"
    }
   ],
   "source": [
    "#imprime encabezados\n",
    "#cambio el indice de la lista\n",
    "S2=spotify.set_index('artist')\n",
    "\n",
    "S2.head()\n"
   ]
  },
  {
   "cell_type": "code",
   "execution_count": 95,
   "metadata": {},
   "outputs": [
    {
     "data": {
      "text/plain": [
       "1343"
      ]
     },
     "execution_count": 95,
     "metadata": {},
     "output_type": "execute_result"
    }
   ],
   "source": [
    "#contar cuantas hay de un solo columna\n",
    "\n",
    "\n",
    "len(spotify['artist'].unique())\n",
    "#canciones repetidoas\n",
    "#len(spotify['song_title'].unique())\n"
   ]
  },
  {
   "cell_type": "code",
   "execution_count": 96,
   "metadata": {},
   "outputs": [],
   "source": [
    "#Asigbar S2 para index sea el artista S2=spotify.set_index('artist')"
   ]
  },
  {
   "cell_type": "code",
   "execution_count": 97,
   "metadata": {},
   "outputs": [
    {
     "data": {
      "text/plain": [
       "8"
      ]
     },
     "execution_count": 97,
     "metadata": {},
     "output_type": "execute_result"
    }
   ],
   "source": [
    "#CANCIONES QUE SON DE X ARTISTAS (WALK THE MOON)\n",
    "len(S2.loc['WALK THE MOON'])\n",
    "len(S2.loc['Future'])\n",
    "\n"
   ]
  },
  {
   "cell_type": "code",
   "execution_count": 155,
   "metadata": {},
   "outputs": [
    {
     "name": "stdout",
     "output_type": "stream",
     "text": [
      "['B']\n"
     ]
    }
   ],
   "source": [
    "#nueva lista es S2\n",
    "#crear una lista de solo artistas \n",
    "\n",
    "Artist= spotify['artist']\n",
    "artist=[]\n",
    "\n",
    "for artistas in Artist:\n",
    "    artist=[artistas[0]]\n",
    "    \n",
    "print(artist)\n",
    "\n",
    "\n",
    "#cuenta cuantas veces existe ese valor\n",
    "#Artist.value_counts()\n",
    "\n",
    "#para artistas\n",
    "#spotify['artist'].value_counts()\n",
    "\n",
    "#formula\n",
    "#nombre_de_tu_lista_o_csv['columna'].valeu_counts()\n",
    "\n",
    "#para canciones\n",
    "#spotify['song_title'].value_counts()\n",
    "#Grafica directo\n",
    "#Artist.value_counts().plot()\n",
    "\n",
    "\n",
    "\n",
    "\n",
    "\n"
   ]
  },
  {
   "cell_type": "code",
   "execution_count": 99,
   "metadata": {},
   "outputs": [
    {
     "data": {
      "text/html": [
       "<div>\n",
       "<style scoped>\n",
       "    .dataframe tbody tr th:only-of-type {\n",
       "        vertical-align: middle;\n",
       "    }\n",
       "\n",
       "    .dataframe tbody tr th {\n",
       "        vertical-align: top;\n",
       "    }\n",
       "\n",
       "    .dataframe thead th {\n",
       "        text-align: right;\n",
       "    }\n",
       "</style>\n",
       "<table border=\"1\" class=\"dataframe\">\n",
       "  <thead>\n",
       "    <tr style=\"text-align: right;\">\n",
       "      <th></th>\n",
       "      <th>Unnamed: 0</th>\n",
       "      <th>acousticness</th>\n",
       "      <th>danceability</th>\n",
       "      <th>Duracion_m</th>\n",
       "      <th>energy</th>\n",
       "      <th>instrumentalness</th>\n",
       "      <th>key</th>\n",
       "      <th>liveness</th>\n",
       "      <th>loudness</th>\n",
       "      <th>mode</th>\n",
       "      <th>speechiness</th>\n",
       "      <th>tempo</th>\n",
       "      <th>time_signature</th>\n",
       "      <th>valence</th>\n",
       "      <th>target</th>\n",
       "      <th>song_title</th>\n",
       "    </tr>\n",
       "    <tr>\n",
       "      <th>artist</th>\n",
       "      <th></th>\n",
       "      <th></th>\n",
       "      <th></th>\n",
       "      <th></th>\n",
       "      <th></th>\n",
       "      <th></th>\n",
       "      <th></th>\n",
       "      <th></th>\n",
       "      <th></th>\n",
       "      <th></th>\n",
       "      <th></th>\n",
       "      <th></th>\n",
       "      <th></th>\n",
       "      <th></th>\n",
       "      <th></th>\n",
       "      <th></th>\n",
       "    </tr>\n",
       "  </thead>\n",
       "  <tbody>\n",
       "    <tr>\n",
       "      <th>Future</th>\n",
       "      <td>0</td>\n",
       "      <td>0.0102</td>\n",
       "      <td>0.833</td>\n",
       "      <td>3.410000e+06</td>\n",
       "      <td>0.434</td>\n",
       "      <td>0.021900</td>\n",
       "      <td>2</td>\n",
       "      <td>0.1650</td>\n",
       "      <td>-8.795</td>\n",
       "      <td>1</td>\n",
       "      <td>0.4310</td>\n",
       "      <td>150.062</td>\n",
       "      <td>4.0</td>\n",
       "      <td>0.286</td>\n",
       "      <td>1</td>\n",
       "      <td>Mask Off</td>\n",
       "    </tr>\n",
       "    <tr>\n",
       "      <th>Childish Gambino</th>\n",
       "      <td>1</td>\n",
       "      <td>0.1990</td>\n",
       "      <td>0.743</td>\n",
       "      <td>5.448883e+06</td>\n",
       "      <td>0.359</td>\n",
       "      <td>0.006110</td>\n",
       "      <td>1</td>\n",
       "      <td>0.1370</td>\n",
       "      <td>-10.401</td>\n",
       "      <td>1</td>\n",
       "      <td>0.0794</td>\n",
       "      <td>160.083</td>\n",
       "      <td>4.0</td>\n",
       "      <td>0.588</td>\n",
       "      <td>1</td>\n",
       "      <td>Redbone</td>\n",
       "    </tr>\n",
       "    <tr>\n",
       "      <th>Future</th>\n",
       "      <td>2</td>\n",
       "      <td>0.0344</td>\n",
       "      <td>0.838</td>\n",
       "      <td>3.095117e+06</td>\n",
       "      <td>0.412</td>\n",
       "      <td>0.000234</td>\n",
       "      <td>2</td>\n",
       "      <td>0.1590</td>\n",
       "      <td>-7.148</td>\n",
       "      <td>1</td>\n",
       "      <td>0.2890</td>\n",
       "      <td>75.044</td>\n",
       "      <td>4.0</td>\n",
       "      <td>0.173</td>\n",
       "      <td>1</td>\n",
       "      <td>Xanny Family</td>\n",
       "    </tr>\n",
       "    <tr>\n",
       "      <th>Beach House</th>\n",
       "      <td>3</td>\n",
       "      <td>0.6040</td>\n",
       "      <td>0.494</td>\n",
       "      <td>3.323550e+06</td>\n",
       "      <td>0.338</td>\n",
       "      <td>0.510000</td>\n",
       "      <td>5</td>\n",
       "      <td>0.0922</td>\n",
       "      <td>-15.236</td>\n",
       "      <td>1</td>\n",
       "      <td>0.0261</td>\n",
       "      <td>86.468</td>\n",
       "      <td>4.0</td>\n",
       "      <td>0.230</td>\n",
       "      <td>1</td>\n",
       "      <td>Master Of None</td>\n",
       "    </tr>\n",
       "    <tr>\n",
       "      <th>Junior Boys</th>\n",
       "      <td>4</td>\n",
       "      <td>0.1800</td>\n",
       "      <td>0.678</td>\n",
       "      <td>6.548217e+06</td>\n",
       "      <td>0.561</td>\n",
       "      <td>0.512000</td>\n",
       "      <td>5</td>\n",
       "      <td>0.4390</td>\n",
       "      <td>-11.648</td>\n",
       "      <td>0</td>\n",
       "      <td>0.0694</td>\n",
       "      <td>174.004</td>\n",
       "      <td>4.0</td>\n",
       "      <td>0.904</td>\n",
       "      <td>1</td>\n",
       "      <td>Parallel Lines</td>\n",
       "    </tr>\n",
       "  </tbody>\n",
       "</table>\n",
       "</div>"
      ],
      "text/plain": [
       "                  Unnamed: 0  acousticness  danceability    Duracion_m  \\\n",
       "artist                                                                   \n",
       "Future                     0        0.0102         0.833  3.410000e+06   \n",
       "Childish Gambino           1        0.1990         0.743  5.448883e+06   \n",
       "Future                     2        0.0344         0.838  3.095117e+06   \n",
       "Beach House                3        0.6040         0.494  3.323550e+06   \n",
       "Junior Boys                4        0.1800         0.678  6.548217e+06   \n",
       "\n",
       "                  energy  instrumentalness  key  liveness  loudness  mode  \\\n",
       "artist                                                                      \n",
       "Future             0.434          0.021900    2    0.1650    -8.795     1   \n",
       "Childish Gambino   0.359          0.006110    1    0.1370   -10.401     1   \n",
       "Future             0.412          0.000234    2    0.1590    -7.148     1   \n",
       "Beach House        0.338          0.510000    5    0.0922   -15.236     1   \n",
       "Junior Boys        0.561          0.512000    5    0.4390   -11.648     0   \n",
       "\n",
       "                  speechiness    tempo  time_signature  valence  target  \\\n",
       "artist                                                                    \n",
       "Future                 0.4310  150.062             4.0    0.286       1   \n",
       "Childish Gambino       0.0794  160.083             4.0    0.588       1   \n",
       "Future                 0.2890   75.044             4.0    0.173       1   \n",
       "Beach House            0.0261   86.468             4.0    0.230       1   \n",
       "Junior Boys            0.0694  174.004             4.0    0.904       1   \n",
       "\n",
       "                      song_title  \n",
       "artist                            \n",
       "Future                  Mask Off  \n",
       "Childish Gambino         Redbone  \n",
       "Future              Xanny Family  \n",
       "Beach House       Master Of None  \n",
       "Junior Boys       Parallel Lines  "
      ]
     },
     "execution_count": 99,
     "metadata": {},
     "output_type": "execute_result"
    }
   ],
   "source": [
    "#cambiar de milisegundos a segundos en el data_center\n",
    "S2['duration_ms']=S2['duration_ms']*1000\n",
    "S2['duration_ms']=S2['duration_ms']/60\n",
    "S2.head()\n",
    "\n",
    "#renombrarcolumnas\n",
    "S2=S2.rename(columns={'duration_ms':'Duracion_m'})\n",
    "S2.head()"
   ]
  },
  {
   "cell_type": "code",
   "execution_count": 100,
   "metadata": {},
   "outputs": [],
   "source": [
    "#quitar datos innecesarios...\n",
    "\n",
    "S2=S2.drop(['Unnamed: 0','mode', 'valence','target'], axis=1)\n"
   ]
  },
  {
   "cell_type": "code",
   "execution_count": 101,
   "metadata": {},
   "outputs": [
    {
     "data": {
      "text/html": [
       "<div>\n",
       "<style scoped>\n",
       "    .dataframe tbody tr th:only-of-type {\n",
       "        vertical-align: middle;\n",
       "    }\n",
       "\n",
       "    .dataframe tbody tr th {\n",
       "        vertical-align: top;\n",
       "    }\n",
       "\n",
       "    .dataframe thead th {\n",
       "        text-align: right;\n",
       "    }\n",
       "</style>\n",
       "<table border=\"1\" class=\"dataframe\">\n",
       "  <thead>\n",
       "    <tr style=\"text-align: right;\">\n",
       "      <th></th>\n",
       "      <th>acousticness</th>\n",
       "      <th>danceability</th>\n",
       "      <th>Duracion_m</th>\n",
       "      <th>energy</th>\n",
       "      <th>instrumentalness</th>\n",
       "      <th>key</th>\n",
       "      <th>liveness</th>\n",
       "      <th>loudness</th>\n",
       "      <th>speechiness</th>\n",
       "      <th>tempo</th>\n",
       "      <th>time_signature</th>\n",
       "      <th>song_title</th>\n",
       "    </tr>\n",
       "    <tr>\n",
       "      <th>artist</th>\n",
       "      <th></th>\n",
       "      <th></th>\n",
       "      <th></th>\n",
       "      <th></th>\n",
       "      <th></th>\n",
       "      <th></th>\n",
       "      <th></th>\n",
       "      <th></th>\n",
       "      <th></th>\n",
       "      <th></th>\n",
       "      <th></th>\n",
       "      <th></th>\n",
       "    </tr>\n",
       "  </thead>\n",
       "  <tbody>\n",
       "    <tr>\n",
       "      <th>Future</th>\n",
       "      <td>0.0102</td>\n",
       "      <td>0.833</td>\n",
       "      <td>3.410000e+06</td>\n",
       "      <td>0.434</td>\n",
       "      <td>0.021900</td>\n",
       "      <td>2</td>\n",
       "      <td>0.1650</td>\n",
       "      <td>-8.795</td>\n",
       "      <td>0.4310</td>\n",
       "      <td>150.062</td>\n",
       "      <td>4.0</td>\n",
       "      <td>Mask Off</td>\n",
       "    </tr>\n",
       "    <tr>\n",
       "      <th>Childish Gambino</th>\n",
       "      <td>0.1990</td>\n",
       "      <td>0.743</td>\n",
       "      <td>5.448883e+06</td>\n",
       "      <td>0.359</td>\n",
       "      <td>0.006110</td>\n",
       "      <td>1</td>\n",
       "      <td>0.1370</td>\n",
       "      <td>-10.401</td>\n",
       "      <td>0.0794</td>\n",
       "      <td>160.083</td>\n",
       "      <td>4.0</td>\n",
       "      <td>Redbone</td>\n",
       "    </tr>\n",
       "    <tr>\n",
       "      <th>Future</th>\n",
       "      <td>0.0344</td>\n",
       "      <td>0.838</td>\n",
       "      <td>3.095117e+06</td>\n",
       "      <td>0.412</td>\n",
       "      <td>0.000234</td>\n",
       "      <td>2</td>\n",
       "      <td>0.1590</td>\n",
       "      <td>-7.148</td>\n",
       "      <td>0.2890</td>\n",
       "      <td>75.044</td>\n",
       "      <td>4.0</td>\n",
       "      <td>Xanny Family</td>\n",
       "    </tr>\n",
       "    <tr>\n",
       "      <th>Beach House</th>\n",
       "      <td>0.6040</td>\n",
       "      <td>0.494</td>\n",
       "      <td>3.323550e+06</td>\n",
       "      <td>0.338</td>\n",
       "      <td>0.510000</td>\n",
       "      <td>5</td>\n",
       "      <td>0.0922</td>\n",
       "      <td>-15.236</td>\n",
       "      <td>0.0261</td>\n",
       "      <td>86.468</td>\n",
       "      <td>4.0</td>\n",
       "      <td>Master Of None</td>\n",
       "    </tr>\n",
       "    <tr>\n",
       "      <th>Junior Boys</th>\n",
       "      <td>0.1800</td>\n",
       "      <td>0.678</td>\n",
       "      <td>6.548217e+06</td>\n",
       "      <td>0.561</td>\n",
       "      <td>0.512000</td>\n",
       "      <td>5</td>\n",
       "      <td>0.4390</td>\n",
       "      <td>-11.648</td>\n",
       "      <td>0.0694</td>\n",
       "      <td>174.004</td>\n",
       "      <td>4.0</td>\n",
       "      <td>Parallel Lines</td>\n",
       "    </tr>\n",
       "  </tbody>\n",
       "</table>\n",
       "</div>"
      ],
      "text/plain": [
       "                  acousticness  danceability    Duracion_m  energy  \\\n",
       "artist                                                               \n",
       "Future                  0.0102         0.833  3.410000e+06   0.434   \n",
       "Childish Gambino        0.1990         0.743  5.448883e+06   0.359   \n",
       "Future                  0.0344         0.838  3.095117e+06   0.412   \n",
       "Beach House             0.6040         0.494  3.323550e+06   0.338   \n",
       "Junior Boys             0.1800         0.678  6.548217e+06   0.561   \n",
       "\n",
       "                  instrumentalness  key  liveness  loudness  speechiness  \\\n",
       "artist                                                                     \n",
       "Future                    0.021900    2    0.1650    -8.795       0.4310   \n",
       "Childish Gambino          0.006110    1    0.1370   -10.401       0.0794   \n",
       "Future                    0.000234    2    0.1590    -7.148       0.2890   \n",
       "Beach House               0.510000    5    0.0922   -15.236       0.0261   \n",
       "Junior Boys               0.512000    5    0.4390   -11.648       0.0694   \n",
       "\n",
       "                    tempo  time_signature      song_title  \n",
       "artist                                                     \n",
       "Future            150.062             4.0        Mask Off  \n",
       "Childish Gambino  160.083             4.0         Redbone  \n",
       "Future             75.044             4.0    Xanny Family  \n",
       "Beach House        86.468             4.0  Master Of None  \n",
       "Junior Boys       174.004             4.0  Parallel Lines  "
      ]
     },
     "execution_count": 101,
     "metadata": {},
     "output_type": "execute_result"
    }
   ],
   "source": [
    "S2.head()"
   ]
  },
  {
   "cell_type": "code",
   "execution_count": 102,
   "metadata": {
    "scrolled": true
   },
   "outputs": [
    {
     "data": {
      "image/png": "[encoded data removed]",
      "text/plain": [
       "<Figure size 432x288 with 1 Axes>"
      ]
     },
     "metadata": {
      "needs_background": "light"
     },
     "output_type": "display_data"
    }
   ],
   "source": [
    "S2['tempo'].plot(kind='line')\n",
    "plt.xlabel('cancion')\n",
    "plt.ylabel('tempo')\n",
    "plt.show()\n"
   ]
  },
  {
   "cell_type": "markdown",
   "metadata": {},
   "source": [
    "Tarea extra:\n",
    "Imprimir\n",
    "La columna de todos los tonos (key)\n"
   ]
  },
  {
   "cell_type": "code",
   "execution_count": 107,
   "metadata": {},
   "outputs": [
    {
     "name": "stdout",
     "output_type": "stream",
     "text": [
      "0        2\n",
      "1        1\n",
      "2        2\n",
      "3        5\n",
      "4        5\n",
      "5        8\n",
      "6        1\n",
      "7       10\n",
      "8       11\n",
      "9        7\n",
      "10       5\n",
      "11      10\n",
      "12       0\n",
      "13       0\n",
      "14       9\n",
      "15       6\n",
      "16       1\n",
      "17       4\n",
      "18       1\n",
      "19       1\n",
      "20      10\n",
      "21       1\n",
      "22       9\n",
      "23      11\n",
      "24      10\n",
      "25       7\n",
      "26      11\n",
      "27       6\n",
      "28       4\n",
      "29       1\n",
      "        ..\n",
      "1987     4\n",
      "1988     1\n",
      "1989     0\n",
      "1990     9\n",
      "1991     5\n",
      "1992     2\n",
      "1993     9\n",
      "1994     1\n",
      "1995     2\n",
      "1996    10\n",
      "1997     8\n",
      "1998     6\n",
      "1999     6\n",
      "2000     1\n",
      "2001    11\n",
      "2002     7\n",
      "2003     9\n",
      "2004     8\n",
      "2005     5\n",
      "2006     1\n",
      "2007    11\n",
      "2008     0\n",
      "2009     1\n",
      "2010     6\n",
      "2011     6\n",
      "2012     1\n",
      "2013     1\n",
      "2014     0\n",
      "2015     1\n",
      "2016     9\n",
      "Name: key, Length: 2017, dtype: int64\n"
     ]
    },
    {
     "data": {
      "text/plain": [
       "count    2017.000000\n",
       "mean        5.342588\n",
       "std         3.648240\n",
       "min         0.000000\n",
       "25%         2.000000\n",
       "50%         6.000000\n",
       "75%         9.000000\n",
       "max        11.000000\n",
       "Name: key, dtype: float64"
      ]
     },
     "execution_count": 107,
     "metadata": {},
     "output_type": "execute_result"
    }
   ],
   "source": [
    "tonos=spotify['key']\n",
    "print(tonos)\n",
    "tonos.describe()"
   ]
  },
  {
   "cell_type": "markdown",
   "metadata": {},
   "source": [
    "El valor de tempo para las canciones del artista Future"
   ]
  },
  {
   "cell_type": "code",
   "execution_count": 143,
   "metadata": {},
   "outputs": [
    {
     "data": {
      "image/png": "[encoded data removed]",
      "text/plain": [
       "<Figure size 432x288 with 1 Axes>"
      ]
     },
     "metadata": {
      "needs_background": "light"
     },
     "output_type": "display_data"
    }
   ],
   "source": [
    "\n",
    "tempo=spotify['tempo']\n",
    "#print(tempo)\n",
    "S2['tempo'].plot(kind='line')\n",
    "plt.xlabel('cancion')\n",
    "plt.ylabel('tempo')\n",
    "plt.show()"
   ]
  },
  {
   "cell_type": "code",
   "execution_count": 109,
   "metadata": {},
   "outputs": [
    {
     "data": {
      "text/plain": [
       "1956"
      ]
     },
     "execution_count": 109,
     "metadata": {},
     "output_type": "execute_result"
    }
   ],
   "source": [
    "#cuantas canciones hay en el playlist\n",
    "len(spotify['song_title'].unique())\n"
   ]
  },
  {
   "cell_type": "code",
   "execution_count": 112,
   "metadata": {},
   "outputs": [
    {
     "data": {
      "text/plain": [
       "10"
      ]
     },
     "execution_count": 112,
     "metadata": {},
     "output_type": "execute_result"
    }
   ],
   "source": [
    "#¿Cuántas canciones de WALK THE MOON hay en la lista?\n",
    "len(S2.loc['WALK THE MOON'])"
   ]
  },
  {
   "cell_type": "markdown",
   "metadata": {},
   "source": [
    "¿Cuántos artistas hay en total?\n",
    "Presentar una gráfica de barras para presentar la información\n",
    "\n",
    "Realicen la conversión de la duración de milisegundos a minutos (1 segundo=1000 milisegundo 1min = 60 segundos)\n",
    "\n",
    "Generen una nueva base de datos sin los datos innecesarios (Unnamed :0, mode, valence, mode, target) y el índice debe ser el nombre del artista"
   ]
  },
  {
   "cell_type": "code",
   "execution_count": 115,
   "metadata": {},
   "outputs": [
    {
     "data": {
      "text/plain": [
       "1343"
      ]
     },
     "execution_count": 115,
     "metadata": {},
     "output_type": "execute_result"
    }
   ],
   "source": [
    "#Cuántos artistas hay en total? \n",
    "#Presentar una gráfica de barras para presentar la información\n",
    "len(spotify['artist'].unique())"
   ]
  },
  {
   "cell_type": "code",
   "execution_count": 161,
   "metadata": {},
   "outputs": [],
   "source": [
    "#para artistas\n",
    "spotify['artist'].value_counts()\n",
    "\n",
    "artistas=(spotify['artist'].value_counts())\n",
    "\n",
    "\n",
    "artistas.head()\n"
   ]
  },
  {
   "cell_type": "code",
   "execution_count": 125,
   "metadata": {},
   "outputs": [],
   "source": [
    "# Dibujar un gráfico de barras horizontales\n",
    "#listapandas=np.dtype[] artista:\n",
    "#dataframe\n",
    "\n",
    "posicion_y = np.arange(len(artistas))\n",
    "unidades = spotify[canciones]\n",
    "spotify.plt.barh(posicion_y, unidades, align = \"center\")\n",
    "plt.yticks(posicion_y, paises)\n",
    "plt.xlabel('Unidades vendidas')\n",
    "plt.title(\"Ventas en Europa\")\n",
    "\n"
   ]
  },
  {
   "cell_type": "markdown",
   "metadata": {},
   "source": [
    "##Gráficas extra\n",
    "\n",
    "Hay relación entre lo acústico y la instrumentalización\n",
    "\n",
    "¿Hay relación entre tempo y la energía? y ¿entre el tempo y la bailabilidad?\n",
    "\n",
    "Si reproducieramos la lista en el orden en que esta, ¿cómo se comportaría el tempo (tendencia)?"
   ]
  },
  {
   "cell_type": "code",
   "execution_count": null,
   "metadata": {},
   "outputs": [],
   "source": []
  },
  {
   "cell_type": "code",
   "execution_count": 127,
   "metadata": {},
   "outputs": [
    {
     "data": {
      "image/png": "[encoded data removed]",
      "text/plain": [
       "<Figure size 432x288 with 1 Axes>"
      ]
     },
     "metadata": {
      "needs_background": "light"
     },
     "output_type": "display_data"
    },
    {
     "data": {
      "text/plain": [
       "count    2017.000000\n",
       "mean        0.133286\n",
       "std         0.273162\n",
       "min         0.000000\n",
       "25%         0.000000\n",
       "50%         0.000076\n",
       "75%         0.054000\n",
       "max         0.976000\n",
       "Name: instrumentalness, dtype: float64"
      ]
     },
     "execution_count": 127,
     "metadata": {},
     "output_type": "execute_result"
    }
   ],
   "source": [
    "#Hay relación entre lo acústico y la instrumentalización\n",
    "\n",
    "spotify.plot.scatter('acousticness','instrumentalness')\n",
    "plt.show()\n"
   ]
  },
  {
   "cell_type": "code",
   "execution_count": 129,
   "metadata": {},
   "outputs": [
    {
     "data": {
      "image/png": "[encoded data removed]",
      "text/plain": [
       "<Figure size 432x288 with 1 Axes>"
      ]
     },
     "metadata": {
      "needs_background": "light"
     },
     "output_type": "display_data"
    },
    {
     "data": {
      "image/png": "[encoded data removed]",
      "text/plain": [
       "<Figure size 432x288 with 1 Axes>"
      ]
     },
     "metadata": {
      "needs_background": "light"
     },
     "output_type": "display_data"
    }
   ],
   "source": [
    "#¿Hay relación entre tempo y la energía? \n",
    "\n",
    "spotify.plot.scatter('tempo','energy')\n",
    "plt.show()\n",
    "\n",
    "#¿entre el tempo y la bailabilidad?\n",
    "spotify.plot.scatter('tempo','danceability')\n",
    "plt.show()"
   ]
  },
  {
   "cell_type": "code",
   "execution_count": 139,
   "metadata": {},
   "outputs": [
    {
     "data": {
      "text/plain": [
       "<function matplotlib.pyplot.show(*args, **kw)>"
      ]
     },
     "execution_count": 139,
     "metadata": {},
     "output_type": "execute_result"
    },
    {
     "data": {
      "image/png": "[encoded data removed]",
      "text/plain": [
       "<Figure size 432x288 with 1 Axes>"
      ]
     },
     "metadata": {
      "needs_background": "light"
     },
     "output_type": "display_data"
    }
   ],
   "source": [
    "#Si reproducieramos la lista en el orden en que esta,\n",
    "#¿cómo se comportaría el tempo (tendencia)?\n",
    "\n",
    "tempo=spotify['tempo']\n",
    "#print(tempo)\n",
    "spotify['tempo'].plot(kind='line')\n",
    "plt.xlabel('cancion')\n",
    "plt.ylabel('tempo')\n",
    "plt.show\n",
    "\n"
   ]
  },
  {
   "cell_type": "code",
   "execution_count": 148,
   "metadata": {},
   "outputs": [
    {
     "data": {
      "text/plain": [
       "Text(0.5,1,'Ventas en Europa')"
      ]
     },
     "execution_count": 148,
     "metadata": {},
     "output_type": "execute_result"
    },
    {
     "data": {
      "image/png": "[encoded data removed]",
      "text/plain": [
       "<Figure size 432x288 with 1 Axes>"
      ]
     },
     "metadata": {
      "needs_background": "light"
     },
     "output_type": "display_data"
    }
   ],
   "source": [
    "#grafica de barras\n",
    "\n",
    "valoresx = [\"Alemania\", \"España\", \"Francia\", \"Portugal\"]\n",
    "\n",
    "valoresy = np.arange(len(paises))\n",
    "\n",
    "unidades = (342, 321, 192, 402)\n",
    "plt.barh(valoresy, unidades, align = \"center\")\n",
    "plt.yticks(valoresy, paises)\n",
    "plt.xlabel('Unidades vendidas')\n",
    "plt.title(\"Ventas en Europa\")"
   ]
  },
  {
   "cell_type": "code",
   "execution_count": 149,
   "metadata": {},
   "outputs": [
    {
     "data": {
      "text/plain": [
       "list"
      ]
     },
     "execution_count": 149,
     "metadata": {},
     "output_type": "execute_result"
    }
   ],
   "source": [
    "valoresx = [\"Alemania\", \"España\", \"Francia\", \"Portugal\"]\n",
    "type(valoresx)\n"
   ]
  },
  {
   "cell_type": "code",
   "execution_count": null,
   "metadata": {},
   "outputs": [],
   "source": [
    "list = [], list[artis] or list[df.ix(row1)]"
   ]
  }
 ],
 "metadata": {
  "kernelspec": {
   "display_name": "Python 3",
   "language": "python",
   "name": "python3"
  },
  "language_info": {
   "codemirror_mode": {
    "name": "ipython",
    "version": 3
   },
   "file_extension": ".py",
   "mimetype": "text/x-python",
   "name": "python",
   "nbconvert_exporter": "python",
   "pygments_lexer": "ipython3",
   "version": "3.7.0"
  }
 },
 "nbformat": 4,
 "nbformat_minor": 2
}
